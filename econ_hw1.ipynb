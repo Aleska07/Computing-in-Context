{
 "cells": [
  {
   "cell_type": "markdown",
   "metadata": {},
   "source": [
    "# COMS W1002 Computing in Economics/Social Sciences Project 1\n",
    "## Election Simulation\n",
    "\n",
    "Project created by Professor Karl Sigman and modified by Cannon\n",
    "\n",
    "\n",
    "\n",
    "\n"
   ]
  },
  {
   "cell_type": "markdown",
   "metadata": {},
   "source": [
    "__Problem 1:__ (40 points)\n",
    "Using the 51 [Electoral College](https://www.archives.gov/electoral-college/2000) numbers that were used in the 2000 USA Presidential Election, estimate the number of ways there could have been a tie in the 2000 Presidential Election.  Use Monte Carlo simulation (using *iid* Bernoulli (1/2); e.g., a fair coin flip for each state) to simulate many elections. The fraction of elections that end in tie multiplied by the number of possible outcomes is your estimate. The exact answer to this question was determined in 2009 by K. Sigman and O. Watanabe to be 17,150,271,124,366. Your estimate should be fairly close to that number. \n",
    "\n",
    "\n",
    "Repeat using the [EC numbers](https://www.archives.gov/electoral-college/2020) from the 2020 election. That is create a new list of EC values and feed it to your function.  *NOTE: Maine and Nebraska do not use a winner-take-all electoral college system. In this assignment we will make the simplifying assumtion that they do.*\n",
    "\n",
    "***To earn full marks you must write a parameterized function as described in the comments below to perform your simulation. Do not change the function header.***"
   ]
  },
  {
   "cell_type": "markdown",
   "metadata": {},
   "source": [
    "`Monte Carlo Simulation`: It is used to model the probability of different outcomes in processes that are uncertain or involve random variables. It involves running a large number of simulations or trials with random inputs to observe the range of possible outcomes.\n"
   ]
  },
  {
   "cell_type": "code",
   "execution_count": 13,
   "metadata": {},
   "outputs": [
    {
     "name": "stdout",
     "output_type": "stream",
     "text": [
      "Estimated number of ties (2000): 17359124763700\n",
      "Estimated number of ties (2020): 16911016600776\n"
     ]
    }
   ],
   "source": [
    "import random\n",
    "\n",
    "#  list the EC values for the 2000 election\n",
    "v_2000 = [9,3,8,6,54,8,8,3,3,25,13,4,4,22,12,7,6,8,9,4,10,12,18,10,7,11,3,5,4,4,15,5,33,14,3,21,8,7,23,4,8,3,11,32,5,3,13,11,5,11,3]\n",
    "# list the EC values for the 2020 election\n",
    "v_2020 = [9,3,11,6,55,9,7,3,3,29,16,4,4,20,11,6,6,8,8,4,10,11,16,10,6,10,3,5,6,4,14,5,29,15,3,18,7,7,20,4,9,3,11,38,6,3,13,12,5,10,3]\n",
    "\n",
    "# Define the function to estimate the number of tie outcomes\n",
    "def target_estimator(ec, target, trials): #ec is the electoral college votes from the respective list, target is the number a candidate needs in order to be ina tie, trials is the number of times I'm gona run this simulation\n",
    "    tie_count = 0 #set counter of ties to zero to use it with the for loop\n",
    "    total_outcomes = 2 ** len(ec)  #the total number of outcomes is either head or tails to the power of the length of the list (in this case 51)\n",
    "    \n",
    "    for _ in range(trials):\n",
    "        candidate_1_votes = sum([random.choice([0, ec[i]]) for i in range(len(ec))]) #this iterates over the number of electoral college votes and creates a list by ranodmizing choice between 0 and item in iteration form the list\n",
    "    \n",
    "        if candidate_1_votes == target:\n",
    "            tie_count += 1\n",
    "            \n",
    "    # Scale up to estimate the total number of ties\n",
    "    estimated_tie_outcomes = tie_count / trials * total_outcomes #by dividing the tie count by n we are estimating the probability of success (in this case ties) and then ,ultiplying that times the total number of outcomes \n",
    "    return estimated_tie_outcomes\n",
    "\n",
    "# Calculate the number of tie outcomes for the 2000 and 2020 elections\n",
    "result_2000 = target_estimator(v_2000, 269, 1000000)\n",
    "result_2020 = target_estimator(v_2020, 269, 1000000)\n",
    "\n",
    "print('Estimated number of ties (2000):', round(result_2000))\n",
    "print('Estimated number of ties (2020):', round(result_2020))\n"
   ]
  },
  {
   "cell_type": "markdown",
   "metadata": {},
   "source": [
    "Beginning dummy trials, please ignore"
   ]
  },
  {
   "cell_type": "code",
   "execution_count": 13,
   "metadata": {},
   "outputs": [
    {
     "name": "stdout",
     "output_type": "stream",
     "text": [
      "0\n",
      "1\n",
      "2\n",
      "3\n",
      "4\n",
      "5\n",
      "6\n",
      "7\n"
     ]
    }
   ],
   "source": [
    "#Dummy trials, please ignore\n",
    "list = [2,3,4,5,6,7,8,9]\n",
    "y = len(list)\n",
    "x = range(len(list))\n",
    "for i in range(len(list)):\n",
    "    print(i)"
   ]
  },
  {
   "cell_type": "markdown",
   "metadata": {},
   "source": [
    "Example from class"
   ]
  },
  {
   "cell_type": "code",
   "execution_count": null,
   "metadata": {},
   "outputs": [],
   "source": [
    "#Dummy trials, please ignore\n",
    "import random \n",
    "\n",
    "def dice():\n",
    "    return int(random.random()*6+1)\n",
    "\n",
    "#probability: \n",
    "def dim_sum(x,trials):\n",
    "    count=0\n",
    "    for i in range(trials):\n",
    "        if dice()+dice()==x:\n",
    "            count+=1\n",
    "            return count/trials"
   ]
  },
  {
   "cell_type": "markdown",
   "metadata": {},
   "source": [
    "When using the sum(), I can use it to add values in an iterable not to add strings; that would be called string concatenation and uses a different element called join."
   ]
  },
  {
   "cell_type": "code",
   "execution_count": 21,
   "metadata": {},
   "outputs": [
    {
     "name": "stdout",
     "output_type": "stream",
     "text": [
      "5\n",
      "red\n"
     ]
    }
   ],
   "source": [
    "#dummy trials, please ignore\n",
    "#understanding the function random.choice()\n",
    "import random\n",
    "# Choosing from a list of numbers\n",
    "numbers = [1, 2, 3, 4, 5]\n",
    "print(random.choice(numbers))  # Outputs one of the numbers randomly\n",
    "\n",
    "# Choosing from a list of strings\n",
    "colors = [\"red\", \"blue\", \"green\"]\n",
    "print(random.choice(colors))  # Outputs one of the colors randomly\n"
   ]
  },
  {
   "cell_type": "markdown",
   "metadata": {},
   "source": [
    "End dummy trials"
   ]
  },
  {
   "cell_type": "markdown",
   "metadata": {},
   "source": [
    "__Problem 2:__ In the year 2000 (Bush versus Gore), the situation right before the election was this: Bush had (in his pocket) 24 states totaling 210 EC votes, while Gore had 10 states totaling 146 EC votes. There were 17 states left over, the “Battleground States”, in which it was supposedly unclear who would win them. Look at the file [2000.pdf](http://www.cs.columbia.edu/~cannon/2000.pdf) to see exactly what states made up the 17, and the EC numbers for them.\n",
    "\n",
    "__Part I:__ (30 points) First assume that each Battleground State outcome is determined by an *iid* fair coin toss; Bernoulli (1/2). Simulate (using 1 million copies to average, using Monte Carlo) to obtain the probability that Bush would win the election, and the probability that Gore would win the election, and the probability of a tie.\n",
    "\n",
    "***To earn full marks you must write a parameterized function as described in the comments below to perform your simulation. Do not change the function header.***"
   ]
  },
  {
   "cell_type": "markdown",
   "metadata": {},
   "source": [
    "## Ask why my probabilities are being so high for both, shouldn't it be different? As in, if the probability of 1 is 0.99, then the probability of the other should be 1-0.99?"
   ]
  },
  {
   "cell_type": "code",
   "execution_count": 19,
   "metadata": {},
   "outputs": [
    {
     "name": "stdout",
     "output_type": "stream",
     "text": [
      "Bush win:  0.999999\n",
      "Gore win:  0.999998\n",
      "tie:  0.05657196044921875\n",
      "tie:  0.05780792236328125\n"
     ]
    }
   ],
   "source": [
    "#understanding the context: Bush had 24 states won, which is equivalent to 210 EC votes\n",
    "#Gore had 10 states, which is equivalent to 210 EC votes\n",
    "#there were 17 states left that could go for either, this are called swing states. Adding to total of 182 votes that had not yet been decided\n",
    "\n",
    "#list EC values that remain in play>>Must be a list of length 17! Bceause of the 17 states left\n",
    "v_in_play=[6,3,25,22,7,4,18,10,11,4,4,7,23,11,11,5,11]\n",
    "\n",
    "# this function returns an estimate for the probability that candidate 1\n",
    "# wins in a US Presidential election given that they already have\n",
    "# ec_in_the_bag EC votes.\n",
    "# v_left is a list of the remaining EC numbers,\n",
    "# trials is the number of trials to be used in the MC simulation.\n",
    "# This function assumes that the probability of winning any remaining state\n",
    "# is 0.5\n",
    "\n",
    "import random\n",
    "\n",
    "def ec_estimator(ec_in_the_bag, v_left, trials):\n",
    "    wins = 0 #counter of wins for candidate 1 for the loop\n",
    "    \n",
    "    for _ in range(trials):\n",
    "        total_votes = ec_in_the_bag  # Start with the votes already in the bag\n",
    "        \n",
    "        # Simulate each swing state\n",
    "        for votes in v_left:\n",
    "            if random.random() < 0.5: #the probability of winning is 0.5 or less because this is likea coin toss\n",
    "                ec_in_the_bag += votes\n",
    "        \n",
    "        # Check if the candidate won\n",
    "        if total_votes >= 270:\n",
    "            wins += 1\n",
    "            \n",
    "    # Estimate the probability of winning\n",
    "    return wins / trials\n",
    "#Do I need to substract the probability calculated from 1?\n",
    "\n",
    "# Example simulations\n",
    "v_in_play = [6, 3, 25, 22, 7, 4, 18, 10, 11, 4, 4, 7, 23, 11, 11, 5, 11]\n",
    "\n",
    "# Estimate for Bush win\n",
    "print('Bush win: ', ec_estimator(210, v_in_play, 1000000))\n",
    "\n",
    "# Estimate for Gore win\n",
    "print('Gore win: ', ec_estimator(146, v_in_play, 1000000))\n",
    "\n",
    "# Estimate for Tie:\n",
    "def target_estimator(v_left, target, trials):\n",
    "    ties = 0\n",
    "    for _ in range(trials):\n",
    "        total_votes = 0\n",
    "        for votes in v_left:\n",
    "            if random.random() < 0.5:\n",
    "                total_votes += votes\n",
    "        if total_votes == target:\n",
    "            ties += 1\n",
    "    return ties\n",
    "\n",
    "#estimate for Tie\n",
    "print('tie: ',target_estimator(v_in_play,269-146,1000000)/2**len(v_in_play))\n",
    "#Are this supposed to be substractions? Do they affect the way the function works?\n",
    "\n",
    "#check that it's the same (close) with\n",
    "print('tie: ',target_estimator(v_in_play,269-210,1000000)/2**len(v_in_play))\n",
    "\n"
   ]
  },
  {
   "cell_type": "code",
   "execution_count": 29,
   "metadata": {},
   "outputs": [
    {
     "data": {
      "text/plain": [
       "182"
      ]
     },
     "execution_count": 29,
     "metadata": {},
     "output_type": "execute_result"
    }
   ],
   "source": [
    "#verification of list\n",
    "v_in_play=[6,3,25,22,7,4,18,10,11,4,4,7,23,11,11,5,11]\n",
    "x = len(v_in_play)\n",
    "x\n",
    "y = sum(v_in_play)\n",
    "y"
   ]
  },
  {
   "cell_type": "markdown",
   "metadata": {},
   "source": [
    " __Part II:__ (30 points) In the [2000.pdf](http://www.cs.columbia.edu/~cannon/2000.pdf) file, you will also see the probabilities that had been determined by extensive polling for Gore winning each of the 17 states. Denote these probabilities by $p_1,...,p_{17}$. No longer are they all *p = 1/2* as we assumed in Part I. For example, for the state of Wisconsin (WI), *p = 0.946*, while for the state of Nevada (NV), p = 0.146. Only for the state of Maine (ME) is p = 0.5. Now re-do the simulation in Part I using the 17 Bernoulli $(p_i)$. The idea now is that each of the 17 states has its own coin so to speak.\n",
    " \n",
    "***You can do this one however you wish but someone who uses a parameterized function or functions for doing this will earn more praise and admiration than someone who does not***"
   ]
  },
  {
   "cell_type": "code",
   "execution_count": 24,
   "metadata": {},
   "outputs": [
    {
     "name": "stdout",
     "output_type": "stream",
     "text": [
      "Bush win:  0.911875\n",
      "Gore win:  0.131547\n",
      "Tie (Gore 146, Bush 210):  0.077789306640625\n",
      "Tie (Gore 146, Bush 210):  0.03211212158203125\n"
     ]
    }
   ],
   "source": [
    "\n",
    "\n",
    "# your code here\n",
    "\n",
    "# this time I have provided you with less structure.\n",
    "# The goal is for you to develop a function\n",
    "# or functions similar to those above.\n",
    "# This part will test your ability to design solutions on your own.\n",
    "import random\n",
    "\n",
    "# Probabilities for each of the 17 states\n",
    "p_left = [0.946, 0.146, 0.446, 0.522, 0.301, 0.444, 0.574, 0.641, 0.735, 0.370, 0.326, 0.620, 0.368, 0.615, 0.579, 0.539, 0.486]\n",
    "v_in_play = [6, 3, 25, 22, 7, 4, 18, 10, 11, 4, 4, 7, 23, 11, 11, 5, 11]\n",
    "\n",
    "def ec_estimator_varying_probs(ec_in_the_bag, v_left, p_left, trials):\n",
    "    wins = 0\n",
    "    \n",
    "    # Simulate the elections for each trial\n",
    "    for _ in range(trials):\n",
    "        total_votes = ec_in_the_bag  # Start with the votes already in the bag like we did previously\n",
    "        \n",
    "        # Simulate each state using the respective probability for Gore\n",
    "        for i in range(len(v_left)):\n",
    "            if random.random() < p_left[i]:\n",
    "                total_votes += v_left[i]  # Gore wins the state\n",
    "        \n",
    "        # Check if the candidate has won (>= 270 votes)\n",
    "        if total_votes >= 270:\n",
    "            wins += 1\n",
    "            \n",
    "    # Estimate the probability of winning\n",
    "    return wins / trials\n",
    "\n",
    "\n",
    "\n",
    "# Estimate for Bush win (starting with 210 electoral votes)\n",
    "print('Bush win: ', ec_estimator_varying_probs(210, v_in_play, p_left, 1000000))\n",
    "\n",
    "# Estimate for Gore win (starting with 146 electoral votes)\n",
    "print('Gore win: ', ec_estimator_varying_probs(146, v_in_play, p_left, 1000000))\n",
    "\n",
    "# Estimate for Tie (Gore with 146, Bush with 210)\n",
    "def target_estimator_varying_probs(v_left, p_left, target, trials):\n",
    "    ties = 0\n",
    "    for _ in range(trials):\n",
    "        total_votes = 0\n",
    "        for i in range(len(v_left)):\n",
    "            if random.random() < p_left[i]:\n",
    "                total_votes += v_left[i]  # Gore wins the state\n",
    "        if total_votes == target:\n",
    "            ties += 1\n",
    "    return ties\n",
    "\n",
    "# Estimate for Tie (with modified parameters)\n",
    "print('Tie (Gore 146, Bush 210): ', target_estimator_varying_probs(v_in_play, p_left, 269 - 146, 1000000) / 2 ** len(v_in_play))\n",
    "print('Tie (Gore 146, Bush 210): ', target_estimator_varying_probs(v_in_play, p_left, 269 - 210, 1000000) / 2 ** len(v_in_play))\n",
    "\n",
    "\n",
    "\n"
   ]
  }
 ],
 "metadata": {
  "kernelspec": {
   "display_name": "Python 3 (ipykernel)",
   "language": "python",
   "name": "python3"
  },
  "language_info": {
   "codemirror_mode": {
    "name": "ipython",
    "version": 3
   },
   "file_extension": ".py",
   "mimetype": "text/x-python",
   "name": "python",
   "nbconvert_exporter": "python",
   "pygments_lexer": "ipython3",
   "version": "3.11.7"
  }
 },
 "nbformat": 4,
 "nbformat_minor": 4
}
