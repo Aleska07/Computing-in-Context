{
 "cells": [
  {
   "cell_type": "markdown",
   "metadata": {},
   "source": [
    "# COMS W1002 Computing in Economics  \n",
    "## Project created by Professor Karl Sigman\n",
    "## Option Pricing Using Monte Carlo Simulation"
   ]
  },
  {
   "cell_type": "markdown",
   "metadata": {},
   "source": [
    "__Problem 1:__ For the values of $p=0.5$ and $p=0.75$ obtain an estimate of $p$ by using Monte Carlo Simulation with $n=100, n=1000, n=10,000$ You will generate $n$ _iid_ Bernoulli $(p)$ random variables $B_1, ..., B_n$ and use as the estimate $$ \\hat{p}= \\frac{1}{n}\\sum_{i=1}^{n}B_i $$ \n",
    "This is to show you (convince you) how accurate the Monte Carlo method can be, and how the Strong Law of Large Numbers (SLLN) works in practice."
   ]
  },
  {
   "cell_type": "code",
   "execution_count": 101,
   "metadata": {
    "collapsed": true
   },
   "outputs": [],
   "source": [
    "import random\n",
    "\n",
    "def estimator(p,n):\n",
    "    bernoulli_samples = [1 if random.random() < p else 0 for _ in range(n)]  #creating a list of 0s and 1s \n",
    "    p_hat = sum(bernoulli_samples)/n #estimating the probability\n",
    "    return p_hat #return the probability"
   ]
  },
  {
   "cell_type": "code",
   "execution_count": 102,
   "metadata": {},
   "outputs": [
    {
     "name": "stdout",
     "output_type": "stream",
     "text": [
      "0.53\n"
     ]
    }
   ],
   "source": [
    "p=0.5\n",
    "n=100\n",
    "result = estimator(p,n)\n",
    "print(result)"
   ]
  },
  {
   "cell_type": "code",
   "execution_count": 103,
   "metadata": {},
   "outputs": [
    {
     "name": "stdout",
     "output_type": "stream",
     "text": [
      "0.76\n"
     ]
    }
   ],
   "source": [
    "p=0.75\n",
    "n= 100\n",
    "result = estimator(p,n)\n",
    "print(result)"
   ]
  },
  {
   "cell_type": "code",
   "execution_count": 104,
   "metadata": {},
   "outputs": [
    {
     "name": "stdout",
     "output_type": "stream",
     "text": [
      "0.493\n"
     ]
    }
   ],
   "source": [
    "p=0.5\n",
    "n= 1000\n",
    "result = estimator(p,n)\n",
    "print(result)"
   ]
  },
  {
   "cell_type": "code",
   "execution_count": 105,
   "metadata": {},
   "outputs": [
    {
     "name": "stdout",
     "output_type": "stream",
     "text": [
      "0.75\n"
     ]
    }
   ],
   "source": [
    "p=0.75\n",
    "n= 1000\n",
    "result = estimator(p,n)\n",
    "print(result)"
   ]
  },
  {
   "cell_type": "code",
   "execution_count": 106,
   "metadata": {},
   "outputs": [
    {
     "name": "stdout",
     "output_type": "stream",
     "text": [
      "0.4997\n"
     ]
    }
   ],
   "source": [
    "p=0.5\n",
    "n= 10000\n",
    "result = estimator(p,n)\n",
    "print(result)"
   ]
  },
  {
   "cell_type": "code",
   "execution_count": 107,
   "metadata": {},
   "outputs": [
    {
     "name": "stdout",
     "output_type": "stream",
     "text": [
      "0.7512\n"
     ]
    }
   ],
   "source": [
    "p=0.75\n",
    "n= 10000\n",
    "result = estimator(p,n)\n",
    "print(result)"
   ]
  },
  {
   "cell_type": "code",
   "execution_count": 108,
   "metadata": {},
   "outputs": [
    {
     "name": "stdout",
     "output_type": "stream",
     "text": [
      "Estimate for p = 0.5 with n = 100: ̂p = 0.5900\n",
      "Estimate for p = 0.5 with n = 1000: ̂p = 0.4870\n",
      "Estimate for p = 0.5 with n = 10000: ̂p = 0.4962\n",
      "Estimate for p = 0.75 with n = 100: ̂p = 0.7300\n",
      "Estimate for p = 0.75 with n = 1000: ̂p = 0.7590\n",
      "Estimate for p = 0.75 with n = 10000: ̂p = 0.7506\n"
     ]
    }
   ],
   "source": [
    "import random\n",
    "\n",
    "# Function to estimate p using Monte Carlo simulation\n",
    "def estimate_p(p, n):\n",
    "    # Generate n iid Bernoulli(p) random variables\n",
    "    bernoulli_samples = [1 if random.random() < p else 0 for _ in range(n)]\n",
    "    # Compute the estimate of p\n",
    "    p_hat = sum(bernoulli_samples) / n\n",
    "    return p_hat\n",
    "\n",
    "# Given values of p\n",
    "p_values = [0.5, 0.75]\n",
    "# Sample sizes\n",
    "n_values = [100, 1000, 10000]\n",
    "\n",
    "# Run simulations for each p and n\n",
    "results = []  # Use a list to store results from the probabilities\n",
    "for p in p_values:\n",
    "    for n in n_values:\n",
    "        p_hat = estimate_p(p, n)\n",
    "        results.append((p, n, p_hat))\n",
    "\n",
    "# Print results using a for loop\n",
    "for p, n, p_hat in results:\n",
    "    print(f\"Estimate for p = {p} with n = {n}: \\u0302p = {p_hat:.4f}\")"
   ]
  },
  {
   "cell_type": "markdown",
   "metadata": {},
   "source": [
    "__Problem 2:__ Recall the formula for computing the price $C_0$ of an option (derivative of the BLM stock prices) That yields a payoff at time $T$, denote by $C_T$:\n",
    "$$ C_0 = \\frac{1}{(1+r)^T}E^*(C_T), $$  \n",
    "\n",
    "where $*$ refers to the fact that we must use the value $p^*$ instead of the original (real) $P$ for the up/down probability of the BLM. (The real value of $P$ is not needed for pricing.) Also recall that for $C_T = (S_T - K)^+$, the European call option, the expected value, $E^*(S_T-K)^+$ can be computed explicitly yielding the famous Black-Scholes-Merton option pricing formula:  \n",
    "$$ C_0 = \\frac{1}{(1+r)^T}\\sum_{k=0}^{T} \\left( \\begin{array}{c}\n",
    "T \\\\ k  \\end{array} \\right )(p^*)^k(1-p^*)^{T-k}(u^k d^{T-k}S_0-K)^+ . $$  \n",
    "\n",
    "You are to use this formula to exactly obtain the price on the one hand, and then use Monte Carlo simulation on the other hand to compare and thus see how accurate the Monte Carlo method can be. \n",
    "\n",
    "Here are the parameters to use: $T = 10, r = 0.05, u = 1.15, d= 1.01, S_0 = 50, K = 70$. Recall that \n",
    "$$ p^* = \\frac{1+r-d}{u-d} . $$  \n",
    "\n",
    "For the Monte Carlo, use $n=100, n=1000, n=10,000$ _iid_ copies of $C_T$ (for averaging) to see how it gets more accurate as $n$ increases."
   ]
  },
  {
   "cell_type": "code",
   "execution_count": 109,
   "metadata": {},
   "outputs": [
    {
     "name": "stdout",
     "output_type": "stream",
     "text": [
      "our pr_star is 0.28571428571428614\n"
     ]
    }
   ],
   "source": [
    "T = 10\n",
    "r = 0.05\n",
    "u = 1.15\n",
    "d = 1.01\n",
    "S0 = 50\n",
    "K = 70\n",
    "\n",
    "def pr_star(r,d,u):\n",
    "    p = (1+r-d)/(u-d)\n",
    "    return p\n",
    "\n",
    "result = pr_star(r,d,u)\n",
    "print(f'our pr_star is {result}')\n"
   ]
  },
  {
   "cell_type": "code",
   "execution_count": 110,
   "metadata": {},
   "outputs": [],
   "source": [
    "import random\n",
    "\n",
    "\n",
    "T = 10  # Number of steps (maturity)\n",
    "r = 0.05  # Risk-free rate\n",
    "u = 1.15  # Up factor\n",
    "d = 1.01  # Down factor\n",
    "S0 = 50  # Initial stock price\n",
    "K = 70  # Strike price\n",
    "\n",
    "#probability from the risk-neutral probability of a binomial model:\n",
    "#retunr the probability of an upward movement\n",
    "def p_star(u,r,d):\n",
    "    return (1+r-d)/(u-d)\n",
    "\n",
    "# single outcome of a stock price movement based on a given probability\n",
    "def Y(p,u,d): #p is the probablity of an up movement. u: The factor by which the stock price increases if the movement is up. d: The factor by which the stock price decreases if the movement is down.\n",
    "    if random.random() <= p:\n",
    "        return u #return up as in the price of the stock will move up\n",
    "    else:\n",
    "        return d #return down as in the price of the stock wil mvoe down\n",
    "   #basicallly, with the probability p: the stock will go up by u and with the probaility 1-p the stock will do down by d \n",
    "\n",
    "\n",
    "#entire stock price over n steps based on BLM    \n",
    "def BLM(S0, n, p, u, d): #S0= is th emarket price of the option, n is th enumber of trails, p is the probability of price goin up, u is the upward factor and d is the downward factor.\n",
    "    BLMpath = [0 for k in range(n+1)]  # Creating a list to store the stock price at each step\n",
    "    BLMpath[0] = S0  # Initial stock price at time 0\n",
    "    Ysamples = [Y(p, u, d) for k in range(n)]  # List of random values representing price movements\n",
    "    S = S0  # Set the initial stock price\n",
    "\n",
    "    for k in range(1, n+1):\n",
    "        # Update the stock price by multiplying it by each movement factor and store it\n",
    "        S *= Ysamples[k-1]\n",
    "        BLMpath[k] = S  # Store the updated stock price at step k\n",
    "\n",
    "    return BLMpath  # Return the list of stock prices over time\n",
    " \n",
    "#computes the payoff at maturity T, payoff means the difference between the strike price and current market price!\n",
    "def find_CT(T, r, u, d, S0, K):\n",
    "    p = p_star(u,r,d) #probability of upward movement\n",
    "    BLMpath = BLM(S0, T, p, u,d) #a list of the ups and downs \n",
    "    ST = BLMpath[len(BLMpath)-1] #the final stock price (at maturity)\n",
    "    CT = max(ST - K, 0) #calculate th payoff\n",
    "\n",
    "    return CT"
   ]
  },
  {
   "cell_type": "code",
   "execution_count": 143,
   "metadata": {},
   "outputs": [
    {
     "name": "stdout",
     "output_type": "stream",
     "text": [
      "The exact price is: 7.943399485843426\n",
      "Estimate for 100 trials is 7.72\n",
      "Estimate for 1000 trials is 8.24\n",
      "Estimate for 10000 trials is 7.95\n"
     ]
    }
   ],
   "source": [
    "#calculate exact price: 7.9\n",
    "from math import factorial\n",
    "\n",
    "T = 10  # Number of steps (maturity)\n",
    "r = 0.05  # Risk-free rate\n",
    "u = 1.15  # Up factor\n",
    "d = 1.01  # Down factor\n",
    "S0 = 50  # Initial stock price\n",
    "K = 70  # Strike price\n",
    "n = [100,1000,10000] #please insert the number of trials you want to execute here\n",
    "\n",
    "#Calculate how many ways k sucesses can occur in n trials\n",
    "#This calculates the binomial coefficient\n",
    "def n_choose_k(n,k):\n",
    "    result = factorial(n)/(factorial(k)*factorial(n-k)) \n",
    "    return result\n",
    "\n",
    "# finding the exacr price function\n",
    "def exact_price(T,r,u,d,S0,K):\n",
    "  total = 0 #This is the total payoff and is stratiing at 0 for time o\n",
    "  p_star = ((1+r-d)/(u-d)) #This is the porbability of the stock going up or down\n",
    "\n",
    "  # initiate for loop that iterates through the number of periods T\n",
    "  for k in range(T+1): #k represent every period, and we do +1 in the range to include the final period\n",
    "    S = ((u**k) * (d**(T-k)) * S0) #This computes the stock price for k up moves\n",
    "    #Computes the stock price at maturity for k moves up and T-k moves down\n",
    "\n",
    "  # The equation to find the exact price of the option after iterating the price above\n",
    "    total += n_choose_k(T,k)*(p_star**k)*((1 - p_star)**(T-k)) * max(S - K, 0)\n",
    "  return total * (1 / (1 + r)**T) \n",
    "\n",
    "\n",
    "\n",
    "\n",
    "def monte_carlo(T, r, u, d, S0, K, n):\n",
    "    \"\"\"Calculates the option price using Monte Carlo simulation.\"\"\"\n",
    "    total = 0\n",
    "    for _ in range(n):\n",
    "        total += find_CT(T, r, u, d, S0, K)  # Sum payoffs from all periods\n",
    "    result = total / n  # Find the average payoff\n",
    "    return (1 / (1 + r)**T) * result  # Discounted present value of payoff\n",
    "\n",
    "exact_price = exact_price(T,r,u,d,S0,K)\n",
    "print(f\"The exact price is: {exact_price}\")\n",
    "\n",
    "# Run simulations for different numbers of trials\n",
    "for trials in n:\n",
    "    estimate = monte_carlo(T, r, u, d, S0, K, trials)\n",
    "    print(f\"Estimate for {trials} trials is {estimate:.2f}\")"
   ]
  },
  {
   "cell_type": "markdown",
   "metadata": {},
   "source": [
    "__Problem 3__: With the same parameters as in Problem 2, price the _Asian call option:_ The payoff $C_T$ at a time $T$ is based on the average value of the stock over the $T$ time units:\n",
    "$$ C_T = \\left( \\frac{1}{T} \\sum_{i=1}^{T} S_i-K \\right)^+ $$  \n",
    "\n",
    "Use $n=100, n=1000, n=10,000$ _iid_ copies of $C_T$ (for averaging)."
   ]
  },
  {
   "cell_type": "code",
   "execution_count": 112,
   "metadata": {},
   "outputs": [
    {
     "name": "stdout",
     "output_type": "stream",
     "text": [
      "Estimate for 100 trials is 1.0330\n",
      "Estimate for 1000 trials is 1.1134\n",
      "Estimate for 10000 trials is 1.1366\n"
     ]
    }
   ],
   "source": [
    "# Create function for Asian payoffs\n",
    "def Asian_payoff(up_down_factor, S0, T, K):\n",
    "    # Calculate the stock prices along the path of probabilities of going up and down based on bernoulli estimator from the beginning \n",
    "    current_price = S0\n",
    "    prices = []\n",
    "    for i in range(T):\n",
    "        # Multiply the current price by the up or down factor\n",
    "        current_price *= up_down_factor[i]\n",
    "        prices.append(current_price)\n",
    "\n",
    "    # Calculate the average price and the payoff\n",
    "    average_price = sum(prices) / len(prices)\n",
    "    return max(average_price - K, 0)\n",
    "\n",
    "# Create function for the Asian estimator\n",
    "def Asian_estimator(T, r, u, d, S0, K, n):\n",
    "    # Initialize variables\n",
    "    est_total = 0\n",
    "    p_star = (1 + r - d) / (u - d)  # Risk-neutral probability pr_star\n",
    "    rate = 1 / ((1 + r) ** T)      # Discount factor\n",
    "\n",
    "    # Perform n trials\n",
    "    for _ in range(n):\n",
    "        # Generate a trend list for price path to determine whether it goes up or down\n",
    "        trend = [\n",
    "            u if Bernoulli_simulator(p_star) == 1 else d\n",
    "            for _ in range(T)\n",
    "        ]\n",
    "\n",
    "        # Calculate the payoff for this trial\n",
    "        payoff = Asian_payoff(trend, S0, T, K)\n",
    "        est_total += payoff\n",
    "\n",
    "    # Return the discounted average payoff\n",
    "    return rate * (est_total / n) \n",
    "\n",
    "# Bernoulli simulator function\n",
    "def Bernoulli_simulator(p):\n",
    "    return 1 if random.random() < p else 0\n",
    "\n",
    "# Variables\n",
    "T = 10\n",
    "r = 0.05\n",
    "u = 1.15\n",
    "d = 1.01\n",
    "S0 = 50\n",
    "K = 70\n",
    "trials = [100, 1000, 10000]\n",
    "\n",
    "# Print estimates for Asian option price\n",
    "for n in trials:\n",
    "    estimate = Asian_estimator(T, r, u, d, S0, K, n)\n",
    "    print(f\"Estimate for {n} trials is {estimate:.4f}\")\n"
   ]
  },
  {
   "cell_type": "markdown",
   "metadata": {},
   "source": [
    "__Problem 4__: With the same parameters as in Problem 2, but the additional parameters $n_1 = 4, n_2 =6,$ and $b=66$: price a _down and out barrier option_, that has payoff at time $T$ of  \n",
    "\n",
    "$$ C_T = (S_T -K)^+ I \\{ S_{n_1} \\geq b, S_{n_2} \\geq b \\}.$$ \n",
    "\n",
    "Use $n=100, n=1000, n=10,000$ _iid_ copies of $C_T$ (for averaging).\n",
    "\n",
    "In the above, recall that for any event $A$, $I\\{A\\}$ denotes the _indicator_ random variable defined by  \n",
    "$$ I\\{A\\} = \\left\\{ \\begin{array}{ll} 1 & \\mbox{if $A$ occurs,} \\\\ 0 & \\mbox{if $A$ does not occur.} \\end{array} \\right. $$\n",
    "\n",
    "  \n",
    "Here, $A = \\{S_{n_1} \\geq b, S_{n_2} \\geq b\\}$.\n"
   ]
  },
  {
   "cell_type": "code",
   "execution_count": 128,
   "metadata": {},
   "outputs": [
    {
     "name": "stdout",
     "output_type": "stream",
     "text": [
      "Estimate for 100 trials is 4.19\n",
      "Estimate for 1000 trials is 4.93\n",
      "Estimate for 10000 trials is 4.65\n"
     ]
    }
   ],
   "source": [
    "import random\n",
    "\n",
    "# Parameters\n",
    "T = 10  # Number of time steps\n",
    "r = 0.05  # Risk-free rate\n",
    "u = 1.15  # Up factor\n",
    "d = 1.01  # Down factor\n",
    "S0 = 50  # Initial stock price\n",
    "K = 70  # Strike price\n",
    "n1 = 4  # Day to check condition\n",
    "n2 = 6  # Another day to check condition\n",
    "b = 66  # Barrier condition\n",
    "trials = [100, 1000, 10000]  # Number of trials\n",
    "\n",
    "# Define Bernoulli simulator\n",
    "def bernoulli(p):\n",
    "    \"\"\"Returns 1 with probability p, 0 with probability 1-p.\"\"\"\n",
    "    return 1 if random.random() < p else 0\n",
    "\n",
    "# Define out payoff function\n",
    "def out_payoff(trend, S0, T, K, n1, n2, b): #Check if u can be used in the function\n",
    "    \"\"\"Calculates the payoff for an out barrier option.\"\"\"\n",
    "    # Generate price path based on trend\n",
    "    current_price = S0\n",
    "    prices = []\n",
    "    for i in range(T):\n",
    "        current_price *= trend[i]\n",
    "        prices.append(current_price)\n",
    "\n",
    "    # Check barrier conditions at specific days (adjusted for zero-indexing)\n",
    "    if prices[n1 - 1] >= b and prices[n2 - 1] >= b:\n",
    "        # Payoff if conditions are met\n",
    "        return max(prices[-1] - K, 0)\n",
    "    else:\n",
    "        # No payoff if conditions are not met\n",
    "        return 0\n",
    "\n",
    "# Define out estimator function\n",
    "def out_estimator(T, r, u, d, S0, K, n, n1, n2, b):\n",
    "    \"\"\"Estimates the expected value of an out barrier option.\"\"\"\n",
    "    est_total = 0  # Initialize total estimated payoff\n",
    "    p_star = (1 + r - d) / (u - d)  # Risk-neutral probability\n",
    "    rate = 1 / ((1 + r) ** T)  # Discount factor\n",
    "\n",
    "    # Simulate `n` trials\n",
    "    for _ in range(n):\n",
    "        trend = []  # Initialize trend list for this trial\n",
    "        for _ in range(T):\n",
    "            # Generate up or down movement using Bernoulli distribution\n",
    "            if bernoulli(p_star) == 1:\n",
    "                trend.append(u)  # Up factor\n",
    "            else:\n",
    "                trend.append(d)  # Down factor\n",
    "\n",
    "        # Calculate and add payoff for this trial\n",
    "        est_total += out_payoff(trend, S0, T, K, n1, n2, b)\n",
    "\n",
    "    # Return the discounted average payoff\n",
    "    return (est_total / n)* rate\n",
    "\n",
    "# Print estimates for different numbers of trials\n",
    "for n in trials:\n",
    "    estimate = out_estimator(T, r, u, d, S0, K, n, n1, n2, b)\n",
    "    print(f\"Estimate for {n} trials is {estimate:.2f}\")"
   ]
  }
 ],
 "metadata": {
  "kernelspec": {
   "display_name": "Python 3",
   "language": "python",
   "name": "python3"
  },
  "language_info": {
   "codemirror_mode": {
    "name": "ipython",
    "version": 3
   },
   "file_extension": ".py",
   "mimetype": "text/x-python",
   "name": "python",
   "nbconvert_exporter": "python",
   "pygments_lexer": "ipython3",
   "version": "3.11.7"
  }
 },
 "nbformat": 4,
 "nbformat_minor": 1
}
