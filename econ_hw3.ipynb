{
 "cells": [
  {
   "cell_type": "markdown",
   "metadata": {},
   "source": [
    "# COMS W1002 Computing in Context: Computing in Economics  \n",
    "## Project 3: Tickets  \n",
    "## Due December 9th at 11:59PM  "
   ]
  },
  {
   "cell_type": "markdown",
   "metadata": {},
   "source": [
    "In this assignment you will analyze a large public data set in an effort to answer one of the burning questions of our time: Who is running all the red lights?  Many traffic lights in New York City are equipped with cameras that will take a picture of any car or truck that drives through the intersection when the light is red. The vehicle's license plate is then scanned and a ticket is mailed to the person whose name appears on the vehicle's registration. The work you will do in this assignment is inspired by the amazing and popular blog [*I Quant NY*](http://iquantny.tumblr.com/). You should read the original article [*here*](http://iquantny.tumblr.com/post/140432262249/parking-immunity-diplomats-owe-nyc-16-million-in). For this assignment you are going look at New York City red light camera violation data to determine which vehicles are running red lights and how much they have paid or how much they owe. The entire data set includes much more than red light camera violations and is available [*online*](https://data.cityofnewyork.us/City-Government/Open-Parking-and-Camera-Violations/nc67-uf89) but it's way too big for our purposes. I have downloaded just the red light camera violations into a file named [red_light.csv](https://www.cs.columbia.edu/~cannon/parking/). You will need to download this large file to do your assignment. It contains information on over 4 million tickets. \n"
   ]
  },
  {
   "cell_type": "markdown",
   "metadata": {},
   "source": [
    "**Problem 1 Part 1** Use pandas to read `red_light.csv` and store the entire dataset as a DataFrame."
   ]
  },
  {
   "cell_type": "code",
   "execution_count": 4,
   "metadata": {
    "collapsed": true
   },
   "outputs": [
    {
     "data": {
      "text/html": [
       "<div>\n",
       "<style scoped>\n",
       "    .dataframe tbody tr th:only-of-type {\n",
       "        vertical-align: middle;\n",
       "    }\n",
       "\n",
       "    .dataframe tbody tr th {\n",
       "        vertical-align: top;\n",
       "    }\n",
       "\n",
       "    .dataframe thead th {\n",
       "        text-align: right;\n",
       "    }\n",
       "</style>\n",
       "<table border=\"1\" class=\"dataframe\">\n",
       "  <thead>\n",
       "    <tr style=\"text-align: right;\">\n",
       "      <th></th>\n",
       "      <th>Plate</th>\n",
       "      <th>State</th>\n",
       "      <th>License Type</th>\n",
       "      <th>Summons Number</th>\n",
       "      <th>Issue Date</th>\n",
       "      <th>Violation Time</th>\n",
       "      <th>Violation</th>\n",
       "      <th>Judgment Entry Date</th>\n",
       "      <th>Fine Amount</th>\n",
       "      <th>Penalty Amount</th>\n",
       "      <th>Interest Amount</th>\n",
       "      <th>Reduction Amount</th>\n",
       "      <th>Payment Amount</th>\n",
       "      <th>Amount Due</th>\n",
       "      <th>Precinct</th>\n",
       "      <th>County</th>\n",
       "      <th>Issuing Agency</th>\n",
       "      <th>Violation Status</th>\n",
       "      <th>Summons Image</th>\n",
       "    </tr>\n",
       "  </thead>\n",
       "  <tbody>\n",
       "    <tr>\n",
       "      <th>0</th>\n",
       "      <td>BEC9138</td>\n",
       "      <td>NY</td>\n",
       "      <td>PAS</td>\n",
       "      <td>5092901482</td>\n",
       "      <td>08/07/2016</td>\n",
       "      <td>01:11P</td>\n",
       "      <td>FAILURE TO STOP AT RED LIGHT</td>\n",
       "      <td>NaN</td>\n",
       "      <td>50.0</td>\n",
       "      <td>25.0</td>\n",
       "      <td>0.00</td>\n",
       "      <td>0.00</td>\n",
       "      <td>75.00</td>\n",
       "      <td>0.0</td>\n",
       "      <td>0</td>\n",
       "      <td>BK</td>\n",
       "      <td>DEPARTMENT OF TRANSPORTATION</td>\n",
       "      <td>NaN</td>\n",
       "      <td>View Summons (http://nycserv.nyc.gov/NYCServWe...</td>\n",
       "    </tr>\n",
       "    <tr>\n",
       "      <th>1</th>\n",
       "      <td>EDY3698</td>\n",
       "      <td>NY</td>\n",
       "      <td>PAS</td>\n",
       "      <td>5030813615</td>\n",
       "      <td>07/31/2008</td>\n",
       "      <td>10:59P</td>\n",
       "      <td>FAILURE TO STOP AT RED LIGHT</td>\n",
       "      <td>11/21/2008</td>\n",
       "      <td>50.0</td>\n",
       "      <td>25.0</td>\n",
       "      <td>51.46</td>\n",
       "      <td>0.02</td>\n",
       "      <td>126.44</td>\n",
       "      <td>0.0</td>\n",
       "      <td>0</td>\n",
       "      <td>NaN</td>\n",
       "      <td>DEPARTMENT OF TRANSPORTATION</td>\n",
       "      <td>NaN</td>\n",
       "      <td>View Summons (http://nycserv.nyc.gov/NYCServWe...</td>\n",
       "    </tr>\n",
       "    <tr>\n",
       "      <th>2</th>\n",
       "      <td>GYV4311</td>\n",
       "      <td>NY</td>\n",
       "      <td>PAS</td>\n",
       "      <td>5092903570</td>\n",
       "      <td>08/07/2016</td>\n",
       "      <td>02:44P</td>\n",
       "      <td>FAILURE TO STOP AT RED LIGHT</td>\n",
       "      <td>NaN</td>\n",
       "      <td>50.0</td>\n",
       "      <td>25.0</td>\n",
       "      <td>0.00</td>\n",
       "      <td>0.00</td>\n",
       "      <td>75.00</td>\n",
       "      <td>0.0</td>\n",
       "      <td>0</td>\n",
       "      <td>BK</td>\n",
       "      <td>DEPARTMENT OF TRANSPORTATION</td>\n",
       "      <td>NaN</td>\n",
       "      <td>View Summons (http://nycserv.nyc.gov/NYCServWe...</td>\n",
       "    </tr>\n",
       "    <tr>\n",
       "      <th>3</th>\n",
       "      <td>HDK4023</td>\n",
       "      <td>NY</td>\n",
       "      <td>PAS</td>\n",
       "      <td>5092909432</td>\n",
       "      <td>08/07/2016</td>\n",
       "      <td>07:15P</td>\n",
       "      <td>FAILURE TO STOP AT RED LIGHT</td>\n",
       "      <td>NaN</td>\n",
       "      <td>50.0</td>\n",
       "      <td>25.0</td>\n",
       "      <td>0.00</td>\n",
       "      <td>0.00</td>\n",
       "      <td>75.00</td>\n",
       "      <td>0.0</td>\n",
       "      <td>0</td>\n",
       "      <td>BK</td>\n",
       "      <td>DEPARTMENT OF TRANSPORTATION</td>\n",
       "      <td>NaN</td>\n",
       "      <td>View Summons (http://nycserv.nyc.gov/NYCServWe...</td>\n",
       "    </tr>\n",
       "    <tr>\n",
       "      <th>4</th>\n",
       "      <td>T510765C</td>\n",
       "      <td>NY</td>\n",
       "      <td>OMT</td>\n",
       "      <td>5092910598</td>\n",
       "      <td>08/07/2016</td>\n",
       "      <td>09:08P</td>\n",
       "      <td>FAILURE TO STOP AT RED LIGHT</td>\n",
       "      <td>NaN</td>\n",
       "      <td>50.0</td>\n",
       "      <td>25.0</td>\n",
       "      <td>0.00</td>\n",
       "      <td>0.00</td>\n",
       "      <td>75.00</td>\n",
       "      <td>0.0</td>\n",
       "      <td>0</td>\n",
       "      <td>BK</td>\n",
       "      <td>DEPARTMENT OF TRANSPORTATION</td>\n",
       "      <td>NaN</td>\n",
       "      <td>View Summons (http://nycserv.nyc.gov/NYCServWe...</td>\n",
       "    </tr>\n",
       "  </tbody>\n",
       "</table>\n",
       "</div>"
      ],
      "text/plain": [
       "      Plate State License Type  Summons Number  Issue Date Violation Time  \\\n",
       "0   BEC9138    NY          PAS      5092901482  08/07/2016         01:11P   \n",
       "1   EDY3698    NY          PAS      5030813615  07/31/2008         10:59P   \n",
       "2   GYV4311    NY          PAS      5092903570  08/07/2016         02:44P   \n",
       "3   HDK4023    NY          PAS      5092909432  08/07/2016         07:15P   \n",
       "4  T510765C    NY          OMT      5092910598  08/07/2016         09:08P   \n",
       "\n",
       "                      Violation Judgment Entry Date  Fine Amount  \\\n",
       "0  FAILURE TO STOP AT RED LIGHT                 NaN         50.0   \n",
       "1  FAILURE TO STOP AT RED LIGHT          11/21/2008         50.0   \n",
       "2  FAILURE TO STOP AT RED LIGHT                 NaN         50.0   \n",
       "3  FAILURE TO STOP AT RED LIGHT                 NaN         50.0   \n",
       "4  FAILURE TO STOP AT RED LIGHT                 NaN         50.0   \n",
       "\n",
       "   Penalty Amount  Interest Amount  Reduction Amount  Payment Amount  \\\n",
       "0            25.0             0.00              0.00           75.00   \n",
       "1            25.0            51.46              0.02          126.44   \n",
       "2            25.0             0.00              0.00           75.00   \n",
       "3            25.0             0.00              0.00           75.00   \n",
       "4            25.0             0.00              0.00           75.00   \n",
       "\n",
       "   Amount Due  Precinct County                Issuing Agency Violation Status  \\\n",
       "0         0.0         0     BK  DEPARTMENT OF TRANSPORTATION              NaN   \n",
       "1         0.0         0    NaN  DEPARTMENT OF TRANSPORTATION              NaN   \n",
       "2         0.0         0     BK  DEPARTMENT OF TRANSPORTATION              NaN   \n",
       "3         0.0         0     BK  DEPARTMENT OF TRANSPORTATION              NaN   \n",
       "4         0.0         0     BK  DEPARTMENT OF TRANSPORTATION              NaN   \n",
       "\n",
       "                                       Summons Image  \n",
       "0  View Summons (http://nycserv.nyc.gov/NYCServWe...  \n",
       "1  View Summons (http://nycserv.nyc.gov/NYCServWe...  \n",
       "2  View Summons (http://nycserv.nyc.gov/NYCServWe...  \n",
       "3  View Summons (http://nycserv.nyc.gov/NYCServWe...  \n",
       "4  View Summons (http://nycserv.nyc.gov/NYCServWe...  "
      ]
     },
     "execution_count": 4,
     "metadata": {},
     "output_type": "execute_result"
    }
   ],
   "source": [
    "import pandas as pd\n",
    "\n",
    "violations = pd.read_csv(\"/Users/aleskamedrano/Downloads/red_light.csv\")\n",
    "violations.head(5)"
   ]
  },
  {
   "cell_type": "markdown",
   "metadata": {},
   "source": [
    "**Problem 1 Part 2** Use pandas to manipulate the DataFrame you just made so that it only contains the following columns: `['Plate', 'State', 'Issue Date','Violation Time','Payment Amount', 'Amount Due']`. You may find it helpful to rename these columns to shorter versions without spaces."
   ]
  },
  {
   "cell_type": "code",
   "execution_count": 5,
   "metadata": {},
   "outputs": [
    {
     "data": {
      "text/html": [
       "<div>\n",
       "<style scoped>\n",
       "    .dataframe tbody tr th:only-of-type {\n",
       "        vertical-align: middle;\n",
       "    }\n",
       "\n",
       "    .dataframe tbody tr th {\n",
       "        vertical-align: top;\n",
       "    }\n",
       "\n",
       "    .dataframe thead th {\n",
       "        text-align: right;\n",
       "    }\n",
       "</style>\n",
       "<table border=\"1\" class=\"dataframe\">\n",
       "  <thead>\n",
       "    <tr style=\"text-align: right;\">\n",
       "      <th></th>\n",
       "      <th>plate</th>\n",
       "      <th>state</th>\n",
       "      <th>issue_date</th>\n",
       "      <th>violation_time</th>\n",
       "      <th>payment_amount</th>\n",
       "      <th>amount_due</th>\n",
       "    </tr>\n",
       "  </thead>\n",
       "  <tbody>\n",
       "    <tr>\n",
       "      <th>0</th>\n",
       "      <td>BEC9138</td>\n",
       "      <td>NY</td>\n",
       "      <td>08/07/2016</td>\n",
       "      <td>01:11P</td>\n",
       "      <td>75.00</td>\n",
       "      <td>0.0</td>\n",
       "    </tr>\n",
       "    <tr>\n",
       "      <th>1</th>\n",
       "      <td>EDY3698</td>\n",
       "      <td>NY</td>\n",
       "      <td>07/31/2008</td>\n",
       "      <td>10:59P</td>\n",
       "      <td>126.44</td>\n",
       "      <td>0.0</td>\n",
       "    </tr>\n",
       "    <tr>\n",
       "      <th>2</th>\n",
       "      <td>GYV4311</td>\n",
       "      <td>NY</td>\n",
       "      <td>08/07/2016</td>\n",
       "      <td>02:44P</td>\n",
       "      <td>75.00</td>\n",
       "      <td>0.0</td>\n",
       "    </tr>\n",
       "    <tr>\n",
       "      <th>3</th>\n",
       "      <td>HDK4023</td>\n",
       "      <td>NY</td>\n",
       "      <td>08/07/2016</td>\n",
       "      <td>07:15P</td>\n",
       "      <td>75.00</td>\n",
       "      <td>0.0</td>\n",
       "    </tr>\n",
       "    <tr>\n",
       "      <th>4</th>\n",
       "      <td>T510765C</td>\n",
       "      <td>NY</td>\n",
       "      <td>08/07/2016</td>\n",
       "      <td>09:08P</td>\n",
       "      <td>75.00</td>\n",
       "      <td>0.0</td>\n",
       "    </tr>\n",
       "  </tbody>\n",
       "</table>\n",
       "</div>"
      ],
      "text/plain": [
       "      plate state  issue_date violation_time  payment_amount  amount_due\n",
       "0   BEC9138    NY  08/07/2016         01:11P           75.00         0.0\n",
       "1   EDY3698    NY  07/31/2008         10:59P          126.44         0.0\n",
       "2   GYV4311    NY  08/07/2016         02:44P           75.00         0.0\n",
       "3   HDK4023    NY  08/07/2016         07:15P           75.00         0.0\n",
       "4  T510765C    NY  08/07/2016         09:08P           75.00         0.0"
      ]
     },
     "execution_count": 5,
     "metadata": {},
     "output_type": "execute_result"
    }
   ],
   "source": [
    "import pandas as pd\n",
    "\n",
    "violations = pd.read_csv(\"/Users/aleskamedrano/Downloads/red_light.csv\")\n",
    "violations_filtered = violations[[\"Plate\", \"State\", \"Issue Date\", \"Violation Time\", \"Payment Amount\", \"Amount Due\"]]\n",
    "violations_filtered.columns = [\"plate\", \"state\", \"issue_date\", \"violation_time\", \"payment_amount\", \"amount_due\"]\n",
    "violations_filtered.head(5)\n",
    "\n"
   ]
  },
  {
   "cell_type": "markdown",
   "metadata": {},
   "source": [
    "**Problem 2** \n",
    "Write a Python function that takes two parameters: a DataFrame like the one you just made above containing ticket information and  a license plate string. Your function should return a tuple containing the following information: *(number of open violations for the plate, the sum of the amounts due for all of the open violations associated with that plate)*."
   ]
  },
  {
   "cell_type": "code",
   "execution_count": 6,
   "metadata": {},
   "outputs": [],
   "source": [
    "import pandas as pd\n",
    "\n",
    "def amount_owed(tickets, plate):\n",
    "    \"\"\"\n",
    "    Returns the number of open violations and the total amount due for a specific license plate.\n",
    "    \n",
    "    Parameters:\n",
    "    tickets (pd.DataFrame): DataFrame containing ticket information with columns 'plate', 'amount_due', etc.\n",
    "    plate (str): License plate string to filter the tickets.\n",
    "    \n",
    "    Returns:\n",
    "    tuple: (number of open violations, total amount due for open violations)\n",
    "    \"\"\"\n",
    "    # Filter the DataFrame for rows matching the given plate and where amount_due > 0\n",
    "    open_tickets_for_given_plate = tickets[tickets['plate'] == plate]\n",
    "    print(open_tickets_for_given_plate)\n",
    "    \n",
    "    # Count the number of open violations\n",
    "    open_violations = open_tickets_for_given_plate['amount_due'].size\n",
    "    \n",
    "    # Sum the total amount due\n",
    "    total_amount_due = open_tickets_for_given_plate['amount_due'].sum()\n",
    "    \n",
    "    return print (f'open_tickets: {open_violations}', f'amount_due: {total_amount_due}')\n",
    "\n"
   ]
  },
  {
   "cell_type": "code",
   "execution_count": 7,
   "metadata": {},
   "outputs": [
    {
     "name": "stdout",
     "output_type": "stream",
     "text": [
      "           plate state  issue_date violation_time  payment_amount  amount_due\n",
      "1        EDY3698    NY  07/31/2008         10:59P          126.44         0.0\n",
      "1588170  EDY3698    NY  12/15/2008         07:44A          123.72         0.0\n",
      "open_tickets: 2 amount_due: 0.0\n"
     ]
    }
   ],
   "source": [
    "tickets = violations_filtered\n",
    "plate = \"EDY3698\"\n",
    "#debugging purposes\n",
    "#print(tickets['plate'].unique())\n",
    "#print(\"Rows matching the plate:\\n\", tickets[tickets['plate'] == plate])\n",
    "#print(\"Rows with amount_due > 0:\\n\", tickets[tickets['amount_due'] > 0])\n",
    "\n",
    "\n",
    "amount_owed(tickets, plate)"
   ]
  },
  {
   "cell_type": "markdown",
   "metadata": {},
   "source": [
    "**Problem 3 Part 1** Write a Python function to determine which vehicle owes the most money. Your function should take a DataFrame containing the parking ticket information as input and should return the plate number and the total amount owed. You can do this by returning a tuple as you did in Problem 2 or you can return a small DataFrame containing a single row with the desired information. (*Hint: Using groupby will make this much more efficient*)"
   ]
  },
  {
   "cell_type": "code",
   "execution_count": 8,
   "metadata": {
    "collapsed": true
   },
   "outputs": [],
   "source": [
    "def most_owed(tickets):\n",
    "    # Set the index to 'plate'\n",
    "    tickets = tickets.set_index(\"plate\")\n",
    "    \n",
    "    # Group by 'plate' and sum the 'Amount Due'\n",
    "    grouped_tickets = tickets.groupby('plate')['amount_due'].sum()\n",
    "    \n",
    "    # Find the maximum amount owed\n",
    "    max_amount = grouped_tickets.max()\n",
    "    \n",
    "    # Find the plate number corresponding to the maximum amount\n",
    "    max_plate = grouped_tickets.idxmax()\n",
    "    \n",
    "    # Return both values\n",
    "    return print(f\"Plate with the most owed: {max_plate}, Amount Owed: {max_amount}\")\n"
   ]
  },
  {
   "cell_type": "code",
   "execution_count": 9,
   "metadata": {},
   "outputs": [
    {
     "name": "stdout",
     "output_type": "stream",
     "text": [
      "Plate with the most owed: KEV5560, Amount Owed: 3710.46\n"
     ]
    }
   ],
   "source": [
    "tickets = violations_filtered\n",
    "\n",
    "most_owed(tickets)"
   ]
  },
  {
   "cell_type": "markdown",
   "metadata": {},
   "source": [
    "**Problem 3 Part 2** Repeat Part 1 but this time write a Python function to determine which vehicle has paid the most money. "
   ]
  },
  {
   "cell_type": "code",
   "execution_count": 10,
   "metadata": {
    "collapsed": true
   },
   "outputs": [],
   "source": [
    "def most_paid(tickets):\n",
    "    tickets.set_index(\"plate\")\n",
    "    grouped_tickets = tickets.groupby(\"plate\")['payment_amount'].sum()\n",
    "    max_paid_plate = grouped_tickets.idxmax()\n",
    "    max_paid = grouped_tickets.max()\n",
    "\n",
    "    return print(f'the max amount is: {max_paid}, and the plate is: {max_paid_plate}')\n"
   ]
  },
  {
   "cell_type": "code",
   "execution_count": 11,
   "metadata": {},
   "outputs": [
    {
     "name": "stdout",
     "output_type": "stream",
     "text": [
      "the max amount is: 4875.05, and the plate is: T675377C\n"
     ]
    }
   ],
   "source": [
    "tickets = violations_filtered\n",
    "\n",
    "most_paid(tickets)"
   ]
  },
  {
   "cell_type": "markdown",
   "metadata": {},
   "source": [
    "**Problem 4** Using Python and showing your work below, determine at which hour of the day the most red light camera violations occur. So your answer should be something like 1PM or 2PM or 3AM . . ."
   ]
  },
  {
   "cell_type": "code",
   "execution_count": 18,
   "metadata": {},
   "outputs": [],
   "source": [
    "import pandas as pd\n",
    "\n",
    "def max_hour(tickets):\n",
    "    # Convert 'violation_time' to datetime and extract the hour\n",
    "    tickets['hour'] = pd.to_datetime(tickets['violation_time']).dt.hour\n",
    "\n",
    "    # Group by the 'hour' column and count the occurrences\n",
    "    tickets_by_hour = tickets.groupby('hour')['violation_time'].count()\n",
    "\n",
    "    # Find the hour with the maximum count\n",
    "    max_hour = tickets_by_hour.idxmax()  # The hour with the max count\n",
    "    max_count = tickets_by_hour.max()   # The maximum count\n",
    "    max_hour_converted = max_hour%12 #put if to see if it is am or pm\n",
    "    if max_hour >= 12:\n",
    "        return print(f'{max_hour_converted} PM, with a max value of {max_count}')\n",
    "    else:\n",
    "        return print(f'{max_hour_converted} AM, with a max value of {max_count}')\n",
    "    \n"
   ]
  },
  {
   "cell_type": "code",
   "execution_count": 19,
   "metadata": {},
   "outputs": [
    {
     "name": "stderr",
     "output_type": "stream",
     "text": [
      "/var/folders/ws/jw7vmdhx3yq2zps6fh4r4wmc0000gn/T/ipykernel_4886/335047839.py:5: UserWarning: Could not infer format, so each element will be parsed individually, falling back to `dateutil`. To ensure parsing is consistent and as-expected, please specify a format.\n",
      "  tickets['hour'] = pd.to_datetime(tickets['violation_time']).dt.hour\n"
     ]
    },
    {
     "name": "stdout",
     "output_type": "stream",
     "text": [
      "3 PM, with a max value of 365659\n"
     ]
    },
    {
     "name": "stderr",
     "output_type": "stream",
     "text": [
      "/var/folders/ws/jw7vmdhx3yq2zps6fh4r4wmc0000gn/T/ipykernel_4886/335047839.py:5: SettingWithCopyWarning: \n",
      "A value is trying to be set on a copy of a slice from a DataFrame.\n",
      "Try using .loc[row_indexer,col_indexer] = value instead\n",
      "\n",
      "See the caveats in the documentation: https://pandas.pydata.org/pandas-docs/stable/user_guide/indexing.html#returning-a-view-versus-a-copy\n",
      "  tickets['hour'] = pd.to_datetime(tickets['violation_time']).dt.hour\n"
     ]
    }
   ],
   "source": [
    "tickets = violations_filtered\n",
    "\n",
    "max_hour(tickets)\n"
   ]
  },
  {
   "cell_type": "markdown",
   "metadata": {},
   "source": [
    "Write the answer (the hour of day) to problem 4 here: \n"
   ]
  },
  {
   "cell_type": "markdown",
   "metadata": {},
   "source": [
    "3 PM"
   ]
  }
 ],
 "metadata": {
  "kernelspec": {
   "display_name": "Python 3",
   "language": "python",
   "name": "python3"
  },
  "language_info": {
   "codemirror_mode": {
    "name": "ipython",
    "version": 3
   },
   "file_extension": ".py",
   "mimetype": "text/x-python",
   "name": "python",
   "nbconvert_exporter": "python",
   "pygments_lexer": "ipython3",
   "version": "3.11.7"
  }
 },
 "nbformat": 4,
 "nbformat_minor": 2
}
